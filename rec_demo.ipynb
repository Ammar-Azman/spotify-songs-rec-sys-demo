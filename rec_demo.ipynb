{
 "cells": [
  {
   "cell_type": "code",
   "execution_count": 14,
   "metadata": {},
   "outputs": [],
   "source": [
    "import scipy\n",
    "from scipy import spatial\n",
    "import matplotlib.pyplot as plt\n",
    "import random"
   ]
  },
  {
   "cell_type": "code",
   "execution_count": 43,
   "metadata": {},
   "outputs": [
    {
     "name": "stdout",
     "output_type": "stream",
     "text": [
      "\n",
      "User rating\n",
      "user_1 [1, 2]\n",
      "user_2 [2, 3]\n",
      "user_3 [2, 4]\n",
      "user_4 [1, 1]\n",
      "Eucledian Distance\n",
      "user_1 user_1 0\n",
      "user_1 user_2 1\n",
      "user_1 user_3 2\n",
      "user_1 user_4 1\n",
      "user_2 user_1 1\n",
      "user_2 user_2 0\n",
      "user_2 user_3 1\n",
      "user_2 user_4 2\n",
      "user_3 user_1 2\n",
      "user_3 user_2 1\n",
      "user_3 user_3 0\n",
      "user_3 user_4 3\n",
      "user_4 user_1 1\n",
      "user_4 user_2 2\n",
      "user_4 user_3 3\n",
      "user_4 user_4 0\n",
      "\n",
      "Cosine Distance\n",
      "user_1 user_1 0\n",
      "user_1 user_2 0\n",
      "user_1 user_3 0\n",
      "user_1 user_4 0\n",
      "user_2 user_1 0\n",
      "user_2 user_2 0\n",
      "user_2 user_3 0\n",
      "user_2 user_4 0\n",
      "user_3 user_1 0\n",
      "user_3 user_2 0\n",
      "user_3 user_3 0\n",
      "user_3 user_4 0\n",
      "user_4 user_1 0\n",
      "user_4 user_2 0\n",
      "user_4 user_3 0\n",
      "user_4 user_4 0\n"
     ]
    },
    {
     "data": {
      "text/plain": [
       "<matplotlib.collections.PathCollection at 0x7f058e68dc10>"
      ]
     },
     "execution_count": 43,
     "metadata": {},
     "output_type": "execute_result"
    },
    {
     "data": {
      "image/png": "[encoded data removed]",
      "text/plain": [
       "<Figure size 640x480 with 1 Axes>"
      ]
     },
     "metadata": {},
     "output_type": "display_data"
    }
   ],
   "source": [
    "random.seed(32)\n",
    "users = {\n",
    "        \"user_1\" : [random.randint(1,5), random.randint(1,5)],\n",
    "        \"user_2\" : [random.randint(1,5), random.randint(1,5)],\n",
    "        \"user_3\" : [random.randint(1,5), random.randint(1,5)],\n",
    "        \"user_4\" : [random.randint(1,5), random.randint(1,5)],\n",
    "}\n",
    "\n",
    "print(\"\\nUser rating\")\n",
    "for i in users.keys():\n",
    "    print(i, users[i])\n",
    "\n",
    "print(\"Eucledian Distance\")\n",
    "for i in users.keys():\n",
    "    for j in users.keys():\n",
    "        print(i, j, int(spatial.distance.euclidean(users[i],users[j])), \n",
    "                    int(spatial.distance.cosine(users[i],users[j])))\n",
    "\n",
    "\n",
    "print(\"\\nCosine Distance\")\n",
    "for i in users.keys():\n",
    "    for j in users.keys():\n",
    "        print(i, j, int(spatial.distance.cosine(users[i],users[j])))\n",
    "\n",
    "x_coo = []\n",
    "y_coo = []\n",
    "for i in users.keys():\n",
    "    coo = users[i]\n",
    "    x_coo.append(coo[0])\n",
    "    y_coo.append(coo[1])\n",
    "\n",
    "\n",
    "plt.title(\"Movie Rating by User\")\n",
    "plt.xlabel(\"Movie1\")\n",
    "plt.ylabel(\"Movie2\")\n",
    "plt.scatter(x_coo, y_coo)"
   ]
  }
 ],
 "metadata": {
  "kernelspec": {
   "display_name": "venv",
   "language": "python",
   "name": "python3"
  },
  "language_info": {
   "codemirror_mode": {
    "name": "ipython",
    "version": 3
   },
   "file_extension": ".py",
   "mimetype": "text/x-python",
   "name": "python",
   "nbconvert_exporter": "python",
   "pygments_lexer": "ipython3",
   "version": "3.9.13"
  },
  "orig_nbformat": 4
 },
 "nbformat": 4,
 "nbformat_minor": 2
}
